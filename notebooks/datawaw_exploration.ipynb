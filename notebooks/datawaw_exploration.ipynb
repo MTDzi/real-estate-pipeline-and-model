{
 "cells": [
  {
   "cell_type": "code",
   "execution_count": 1,
   "metadata": {},
   "outputs": [],
   "source": [
    "import pandas as pd"
   ]
  },
  {
   "cell_type": "code",
   "execution_count": 5,
   "metadata": {},
   "outputs": [],
   "source": [
    "frame = pd.read_csv('../scraped_csvs/warsaw_map_population_density.csv')"
   ]
  },
  {
   "cell_type": "code",
   "execution_count": 6,
   "metadata": {},
   "outputs": [
    {
     "data": {
      "text/html": [
       "<div>\n",
       "<style scoped>\n",
       "    .dataframe tbody tr th:only-of-type {\n",
       "        vertical-align: middle;\n",
       "    }\n",
       "\n",
       "    .dataframe tbody tr th {\n",
       "        vertical-align: top;\n",
       "    }\n",
       "\n",
       "    .dataframe thead th {\n",
       "        text-align: right;\n",
       "    }\n",
       "</style>\n",
       "<table border=\"1\" class=\"dataframe\">\n",
       "  <thead>\n",
       "    <tr style=\"text-align: right;\">\n",
       "      <th></th>\n",
       "      <th>0</th>\n",
       "      <th>1</th>\n",
       "      <th>2</th>\n",
       "      <th>3</th>\n",
       "      <th>4</th>\n",
       "    </tr>\n",
       "  </thead>\n",
       "  <tbody>\n",
       "    <tr>\n",
       "      <th>y</th>\n",
       "      <td>7.490046e+06</td>\n",
       "      <td>7.490046e+06</td>\n",
       "      <td>7.490046e+06</td>\n",
       "      <td>7.490046e+06</td>\n",
       "      <td>7.490046e+06</td>\n",
       "    </tr>\n",
       "    <tr>\n",
       "      <th>x</th>\n",
       "      <td>5.799703e+06</td>\n",
       "      <td>5.797703e+06</td>\n",
       "      <td>5.795703e+06</td>\n",
       "      <td>5.793703e+06</td>\n",
       "      <td>5.791703e+06</td>\n",
       "    </tr>\n",
       "    <tr>\n",
       "      <th>r</th>\n",
       "      <td>0.000000e+00</td>\n",
       "      <td>0.000000e+00</td>\n",
       "      <td>0.000000e+00</td>\n",
       "      <td>0.000000e+00</td>\n",
       "      <td>8.311688e-02</td>\n",
       "    </tr>\n",
       "    <tr>\n",
       "      <th>g</th>\n",
       "      <td>0.000000e+00</td>\n",
       "      <td>0.000000e+00</td>\n",
       "      <td>0.000000e+00</td>\n",
       "      <td>0.000000e+00</td>\n",
       "      <td>6.717596e-02</td>\n",
       "    </tr>\n",
       "    <tr>\n",
       "      <th>b</th>\n",
       "      <td>0.000000e+00</td>\n",
       "      <td>0.000000e+00</td>\n",
       "      <td>0.000000e+00</td>\n",
       "      <td>0.000000e+00</td>\n",
       "      <td>2.304558e-02</td>\n",
       "    </tr>\n",
       "    <tr>\n",
       "      <th>lon</th>\n",
       "      <td>2.085397e+01</td>\n",
       "      <td>2.085403e+01</td>\n",
       "      <td>2.085409e+01</td>\n",
       "      <td>2.085415e+01</td>\n",
       "      <td>2.085421e+01</td>\n",
       "    </tr>\n",
       "    <tr>\n",
       "      <th>lat</th>\n",
       "      <td>5.233069e+01</td>\n",
       "      <td>5.231271e+01</td>\n",
       "      <td>5.229474e+01</td>\n",
       "      <td>5.227676e+01</td>\n",
       "      <td>5.225879e+01</td>\n",
       "    </tr>\n",
       "  </tbody>\n",
       "</table>\n",
       "</div>"
      ],
      "text/plain": [
       "                0             1             2             3             4\n",
       "y    7.490046e+06  7.490046e+06  7.490046e+06  7.490046e+06  7.490046e+06\n",
       "x    5.799703e+06  5.797703e+06  5.795703e+06  5.793703e+06  5.791703e+06\n",
       "r    0.000000e+00  0.000000e+00  0.000000e+00  0.000000e+00  8.311688e-02\n",
       "g    0.000000e+00  0.000000e+00  0.000000e+00  0.000000e+00  6.717596e-02\n",
       "b    0.000000e+00  0.000000e+00  0.000000e+00  0.000000e+00  2.304558e-02\n",
       "lon  2.085397e+01  2.085403e+01  2.085409e+01  2.085415e+01  2.085421e+01\n",
       "lat  5.233069e+01  5.231271e+01  5.229474e+01  5.227676e+01  5.225879e+01"
      ]
     },
     "execution_count": 6,
     "metadata": {},
     "output_type": "execute_result"
    }
   ],
   "source": [
    "frame.head().T"
   ]
  },
  {
   "cell_type": "code",
   "execution_count": 7,
   "metadata": {},
   "outputs": [],
   "source": [
    "frame['sum'] = frame['r'] + frame['g'] + frame['b']"
   ]
  },
  {
   "cell_type": "code",
   "execution_count": 8,
   "metadata": {},
   "outputs": [
    {
     "data": {
      "text/plain": [
       "(210, 8)"
      ]
     },
     "execution_count": 8,
     "metadata": {},
     "output_type": "execute_result"
    }
   ],
   "source": [
    "frame.shape"
   ]
  },
  {
   "cell_type": "code",
   "execution_count": 11,
   "metadata": {},
   "outputs": [
    {
     "ename": "ModuleNotFoundError",
     "evalue": "No module named 'matplotlib'",
     "output_type": "error",
     "traceback": [
      "\u001b[0;31m---------------------------------------------------------------------------\u001b[0m",
      "\u001b[0;31mModuleNotFoundError\u001b[0m                       Traceback (most recent call last)",
      "\u001b[0;32m<ipython-input-11-effb74a64929>\u001b[0m in \u001b[0;36m<module>\u001b[0;34m\u001b[0m\n\u001b[1;32m      1\u001b[0m \u001b[0;32mimport\u001b[0m \u001b[0mnumpy\u001b[0m \u001b[0;32mas\u001b[0m \u001b[0mnp\u001b[0m\u001b[0;34m\u001b[0m\u001b[0;34m\u001b[0m\u001b[0m\n\u001b[0;32m----> 2\u001b[0;31m \u001b[0;32mimport\u001b[0m \u001b[0mmatplotlib\u001b[0m\u001b[0;34m.\u001b[0m\u001b[0mpyplot\u001b[0m \u001b[0;32mas\u001b[0m \u001b[0mplt\u001b[0m\u001b[0;34m\u001b[0m\u001b[0;34m\u001b[0m\u001b[0m\n\u001b[0m\u001b[1;32m      3\u001b[0m \u001b[0;32mimport\u001b[0m \u001b[0mgriddata\u001b[0m\u001b[0;34m\u001b[0m\u001b[0;34m\u001b[0m\u001b[0m\n\u001b[1;32m      4\u001b[0m \u001b[0;34m\u001b[0m\u001b[0m\n\u001b[1;32m      5\u001b[0m                          \u001b[0;31m# the total number of data points.\u001b[0m\u001b[0;34m\u001b[0m\u001b[0;34m\u001b[0m\u001b[0;34m\u001b[0m\u001b[0m\n",
      "\u001b[0;31mModuleNotFoundError\u001b[0m: No module named 'matplotlib'"
     ]
    }
   ],
   "source": [
    "import numpy as np\n",
    "import matplotlib.pyplot as plt\n",
    "import griddata\n",
    "\n",
    "                         # the total number of data points.\n",
    "x = frame['lon']         # create some normally distributed dependent data in x.\n",
    "y = frame['lat']          # ... do the same for y.\n",
    "z = frame['sum']\n",
    "\n",
    "# plot some profiles / cross-sections for some visualization.  our\n",
    "# function is a symmetric, upward opening paraboloid z = x**2 + y**2.\n",
    "# We expect it to be symmetric about and and y, attain a minimum on\n",
    "# the origin and display minor Gaussian noise.\n",
    "\n",
    "plt.rcParams[\"figure.figsize\"] = [60,20]\n",
    "plt.ion()   # pyplot interactive mode on\n",
    "\n",
    "# x vs z cross-section.  notice the noise.\n",
    "plt.plot(x, z, '.')\n",
    "plt.title('X vs Z=F(X,Y=constant)')\n",
    "plt.xlabel('X')\n",
    "plt.ylabel('Z')\n",
    "\n",
    "# y vs z cross-section.  notice the noise.\n",
    "plt.plot(y, z, '.')\n",
    "plt.title('Y vs Z=F(Y,X=constant)')\n",
    "plt.xlabel('Y')\n",
    "plt.ylabel('Z')\n",
    "\n",
    "# now show the dependent data (x vs y).  we could represent the z data\n",
    "# as a third axis by either a 3d plot or contour plot, but we need to\n",
    "# grid it first....\n",
    "plt.plot(x, y, '.')\n",
    "plt.title('X vs Y')\n",
    "plt.xlabel('X')\n",
    "plt.ylabel('Y')\n",
    "\n",
    "# enter the gridding.  imagine drawing a symmetrical grid over the\n",
    "# plot above.  the binsize is the width and height of one of the grid\n",
    "# cells, or bins in units of x and y.\n",
    "binsize = 0.008\n",
    "grid, bins, binloc = griddata.griddata(x, y, z, binsize=binsize)  # see this routine's docstring\n",
    "\n",
    "\n",
    "# minimum values for colorbar. filter our nans which are in the grid\n",
    "zmin    = grid[np.where(np.isnan(grid) == False)].min()\n",
    "zmax    = grid[np.where(np.isnan(grid) == False)].max()\n",
    "\n",
    "# colorbar stuff\n",
    "palette = plt.matplotlib.colors.LinearSegmentedColormap('jet3',plt.cm.datad['jet'],2048)\n",
    "palette.set_under(alpha=0.0)\n",
    "\n",
    "# plot the results.  first plot is x, y vs z, where z is a filled level plot.\n",
    "extent = (x.min(), x.max(), y.min(), y.max()) # extent of the plot\n",
    "plt.subplot(1, 2, 1)\n",
    "plt.imshow(grid, extent=extent, cmap=palette, origin='lower', vmin=zmin, vmax=zmax, aspect='auto', interpolation='bilinear')\n",
    "plt.xlabel('X values')\n",
    "plt.ylabel('Y values')\n",
    "plt.title('Z = F(X, Y)')\n",
    "plt.colorbar()\n",
    "\n",
    "# now show the number of points in each bin.  since the independent data are\n",
    "# Gaussian distributed, we expect a 2D Gaussian.\n",
    "plt.subplot(1, 2, 2)\n",
    "plt.imshow(bins, extent=extent, cmap=palette, origin='lower', vmin=0, vmax=bins.max(), aspect='auto', interpolation='bilinear')\n",
    "plt.xlabel('X values')\n",
    "plt.ylabel('Y values')\n",
    "plt.title('X, Y vs The No. of Pts Per Bin')\n",
    "plt.colorbar()\n"
   ]
  },
  {
   "cell_type": "code",
   "execution_count": null,
   "metadata": {},
   "outputs": [],
   "source": []
  }
 ],
 "metadata": {
  "kernelspec": {
   "display_name": "Python 3",
   "language": "python",
   "name": "python3"
  },
  "language_info": {
   "codemirror_mode": {
    "name": "ipython",
    "version": 3
   },
   "file_extension": ".py",
   "mimetype": "text/x-python",
   "name": "python",
   "nbconvert_exporter": "python",
   "pygments_lexer": "ipython3",
   "version": "3.7.7"
  }
 },
 "nbformat": 4,
 "nbformat_minor": 4
}
